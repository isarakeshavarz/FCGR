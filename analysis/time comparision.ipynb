{
 "cells": [
  {
   "cell_type": "markdown",
   "metadata": {},
   "source": [
    "##### Import libary"
   ]
  },
  {
   "cell_type": "code",
   "execution_count": 6,
   "metadata": {},
   "outputs": [],
   "source": [
    "import fcgr\n",
    "import numpy as np\n",
    "import pandas as pd\n",
    "from Bio import SeqIO\n",
    "import time\n",
    "import rpy2.robjects as robjects\n",
    "from rpy2.robjects.packages import importr\n",
    "import matplotlib.pyplot as plt"
   ]
  },
  {
   "cell_type": "markdown",
   "metadata": {},
   "source": [
    "##### Define object"
   ]
  },
  {
   "cell_type": "code",
   "execution_count": 7,
   "metadata": {},
   "outputs": [],
   "source": [
    "kaosr = importr('kaos')\n",
    "seqinr = importr('seqinr')"
   ]
  },
  {
   "cell_type": "markdown",
   "metadata": {},
   "source": [
    "##### fasta file path"
   ]
  },
  {
   "cell_type": "code",
   "execution_count": 8,
   "metadata": {},
   "outputs": [],
   "source": [
    "file_path_ecoli = \"../data/GCF_000005845.2_ASM584v2_genomic.fna\""
   ]
  },
  {
   "cell_type": "code",
   "execution_count": 9,
   "metadata": {},
   "outputs": [],
   "source": [
    "def return_r_character_array(python_string):\n",
    "\n",
    "    \"\"\"\n",
    "    Convert a Python string to an R character array.\n",
    "\n",
    "    Parameters:\n",
    "    python_string (str): The input Python string to be converted.\n",
    "\n",
    "    Returns:\n",
    "    r_char_array (rpy2.robjects.vectors.StrVector): An R character array containing the characters from the input string.\n",
    "    \"\"\"\n",
    "    \n",
    "    import rpy2.robjects as robjects\n",
    "\n",
    "    r_char_array = robjects.StrVector(list(python_string))\n",
    "\n",
    "    return r_char_array"
   ]
  },
  {
   "cell_type": "markdown",
   "metadata": {},
   "source": [
    "##### Read fasta"
   ]
  },
  {
   "cell_type": "code",
   "execution_count": 10,
   "metadata": {},
   "outputs": [],
   "source": [
    "python_sequence_ecoli =    fcgr.read_fasta(file_path_ecoli)\n",
    "r_sequence  = return_r_character_array(python_sequence_ecoli)"
   ]
  },
  {
   "cell_type": "code",
   "execution_count": 11,
   "metadata": {},
   "outputs": [],
   "source": [
    "def kaos_r(r_fasta_seq, k):\n",
    "\n",
    "    start_time = time.time()\n",
    "    x_cgr = kaosr.cgr(r_fasta_seq, res=k)\n",
    "    end_time = time.time()\n",
    "\n",
    "    return np.array(x_cgr.rx2('matrix')), (end_time - start_time)"
   ]
  },
  {
   "cell_type": "code",
   "execution_count": 12,
   "metadata": {},
   "outputs": [],
   "source": [
    "def kaos_python(python_fasta_seq, kmer_length):\n",
    "      \n",
    "    chaos_game_kmer_array = fcgr.chaos_game_representation_key(kmer_length=kmer_length)\n",
    "        \n",
    "    start_time = time.time()\n",
    "    \n",
    "    fcgr_matrix = fcgr.chaos_frequency_matrix(fasta_string = python_fasta_seq, kmer_length= kmer_length, chaos_game_kmer_array= chaos_game_kmer_array, pseudo_count= False)[0]\n",
    "\n",
    "    end_time = time.time()\n",
    "    \n",
    "    # print(\"Time taken: \" + str(end_time - start_time))\n",
    "    \n",
    "    return fcgr_matrix, (end_time - start_time)\n",
    "    "
   ]
  },
  {
   "cell_type": "markdown",
   "metadata": {},
   "source": [
    "##### block to obtain time consumed by R kaos vs python fcgr"
   ]
  },
  {
   "cell_type": "code",
   "execution_count": 13,
   "metadata": {},
   "outputs": [
    {
     "name": "stdout",
     "output_type": "stream",
     "text": [
      "Current kmer length is  1\n",
      "(2, 2) (2, 2)\n",
      "The correlation coefficient for ecoli is  -0.003\n",
      "_______\n",
      "Current kmer length is  2\n",
      "(4, 4) (4, 4)\n",
      "The correlation coefficient for ecoli is  -0.122\n",
      "_______\n",
      "Current kmer length is  3\n",
      "(8, 8) (8, 8)\n",
      "The correlation coefficient for ecoli is  -0.08\n",
      "_______\n",
      "Current kmer length is  4\n",
      "(16, 16) (16, 16)\n",
      "The correlation coefficient for ecoli is  -0.021\n",
      "_______\n",
      "Current kmer length is  5\n",
      "(32, 32) (32, 32)\n",
      "The correlation coefficient for ecoli is  0.002\n",
      "_______\n",
      "Current kmer length is  6\n",
      "(64, 64) (64, 64)\n",
      "The correlation coefficient for ecoli is  0.011\n",
      "_______\n",
      "Current kmer length is  7\n",
      "(128, 128) (128, 128)\n",
      "The correlation coefficient for ecoli is  0.019\n",
      "_______\n",
      "Current kmer length is  8\n",
      "(256, 256) (256, 256)\n",
      "The correlation coefficient for ecoli is  0.023\n",
      "_______\n",
      "Current kmer length is  9\n",
      "(512, 512) (512, 512)\n",
      "The correlation coefficient for ecoli is  0.024\n",
      "_______\n",
      "Current kmer length is  10\n",
      "(1024, 1024) (1024, 1024)\n",
      "The correlation coefficient for ecoli is  0.022\n",
      "_______\n"
     ]
    }
   ],
   "source": [
    "time_python = list()\n",
    "time_r = list()\n",
    "# corr_r = list()\n",
    "corr_list = list()\n",
    "\n",
    "python_fcgr = list()\n",
    "r_fcgr = list()\n",
    "\n",
    "for i in [1,2,3,4,5, 6,7,8,9, 10]:\n",
    "\n",
    "    fcgr_ecoli, python_time = kaos_python(python_sequence_ecoli, kmer_length = i)\n",
    "    python_fcgr.append(fcgr_ecoli)\n",
    "    \n",
    "    r_fcgr_ecoli, r_time = kaos_r(r_sequence, k =2**i)\n",
    "    r_fcgr.append(r_fcgr_ecoli)\n",
    "    time_python.append(python_time)\n",
    "    time_r.append(r_time)\n",
    "    print(\"Current kmer length is \", str(i))\n",
    "    print(r_fcgr_ecoli.shape, fcgr_ecoli.shape)\n",
    "    print(\"The correlation coefficient for ecoli is \",    str(np.round(pd.Series(r_fcgr_ecoli.ravel()).corr(pd.Series(fcgr_ecoli.ravel())),3)))\n",
    "    corr_list.append(np.round(pd.Series(r_fcgr_ecoli.ravel()).corr(pd.Series(fcgr_ecoli.ravel())),3))\n",
    "    print(\"_______\")\n",
    "    # break\n",
    "    del fcgr_ecoli, r_fcgr_ecoli, r_time, python_time\n",
    "\n"
   ]
  },
  {
   "cell_type": "markdown",
   "metadata": {},
   "source": [
    "##### Dataframe containing time taken"
   ]
  },
  {
   "cell_type": "code",
   "execution_count": 21,
   "metadata": {},
   "outputs": [
    {
     "data": {
      "text/html": [
       "<div>\n",
       "<style scoped>\n",
       "    .dataframe tbody tr th:only-of-type {\n",
       "        vertical-align: middle;\n",
       "    }\n",
       "\n",
       "    .dataframe tbody tr th {\n",
       "        vertical-align: top;\n",
       "    }\n",
       "\n",
       "    .dataframe thead th {\n",
       "        text-align: right;\n",
       "    }\n",
       "</style>\n",
       "<table border=\"1\" class=\"dataframe\">\n",
       "  <thead>\n",
       "    <tr style=\"text-align: right;\">\n",
       "      <th></th>\n",
       "      <th>fcgr</th>\n",
       "      <th>kaos</th>\n",
       "      <th>kmer length</th>\n",
       "    </tr>\n",
       "  </thead>\n",
       "  <tbody>\n",
       "    <tr>\n",
       "      <th>0</th>\n",
       "      <td>0.633853</td>\n",
       "      <td>97.314407</td>\n",
       "      <td>1</td>\n",
       "    </tr>\n",
       "    <tr>\n",
       "      <th>1</th>\n",
       "      <td>0.734742</td>\n",
       "      <td>95.895900</td>\n",
       "      <td>2</td>\n",
       "    </tr>\n",
       "    <tr>\n",
       "      <th>2</th>\n",
       "      <td>0.770834</td>\n",
       "      <td>95.742068</td>\n",
       "      <td>3</td>\n",
       "    </tr>\n",
       "    <tr>\n",
       "      <th>3</th>\n",
       "      <td>0.785296</td>\n",
       "      <td>96.196476</td>\n",
       "      <td>4</td>\n",
       "    </tr>\n",
       "    <tr>\n",
       "      <th>4</th>\n",
       "      <td>0.805071</td>\n",
       "      <td>96.241860</td>\n",
       "      <td>5</td>\n",
       "    </tr>\n",
       "    <tr>\n",
       "      <th>5</th>\n",
       "      <td>0.863689</td>\n",
       "      <td>96.229482</td>\n",
       "      <td>6</td>\n",
       "    </tr>\n",
       "    <tr>\n",
       "      <th>6</th>\n",
       "      <td>0.885275</td>\n",
       "      <td>96.215835</td>\n",
       "      <td>7</td>\n",
       "    </tr>\n",
       "    <tr>\n",
       "      <th>7</th>\n",
       "      <td>1.235109</td>\n",
       "      <td>96.004366</td>\n",
       "      <td>8</td>\n",
       "    </tr>\n",
       "    <tr>\n",
       "      <th>8</th>\n",
       "      <td>1.955642</td>\n",
       "      <td>96.125725</td>\n",
       "      <td>9</td>\n",
       "    </tr>\n",
       "    <tr>\n",
       "      <th>9</th>\n",
       "      <td>2.942716</td>\n",
       "      <td>96.409935</td>\n",
       "      <td>10</td>\n",
       "    </tr>\n",
       "  </tbody>\n",
       "</table>\n",
       "</div>"
      ],
      "text/plain": [
       "       fcgr       kaos  kmer length\n",
       "0  0.633853  97.314407            1\n",
       "1  0.734742  95.895900            2\n",
       "2  0.770834  95.742068            3\n",
       "3  0.785296  96.196476            4\n",
       "4  0.805071  96.241860            5\n",
       "5  0.863689  96.229482            6\n",
       "6  0.885275  96.215835            7\n",
       "7  1.235109  96.004366            8\n",
       "8  1.955642  96.125725            9\n",
       "9  2.942716  96.409935           10"
      ]
     },
     "execution_count": 21,
     "metadata": {},
     "output_type": "execute_result"
    }
   ],
   "source": [
    "df = pd.DataFrame(columns=[\"fcgr\", \"kaos\"])\n",
    "df[\"kmer length\"] = range(1, 11)\n",
    "df[\"fcgr\"] = time_python\n",
    "df[\"kaos\"] = time_r\n",
    "df"
   ]
  },
  {
   "cell_type": "code",
   "execution_count": 22,
   "metadata": {},
   "outputs": [
    {
     "name": "stderr",
     "output_type": "stream",
     "text": [
      "/tmp/ipykernel_121926/3777255039.py:1: FutureWarning: DataFrame.applymap has been deprecated. Use DataFrame.map instead.\n",
      "  rounded_df = df.applymap(lambda x: round(x, 3))\n"
     ]
    },
    {
     "data": {
      "text/html": [
       "<div>\n",
       "<style scoped>\n",
       "    .dataframe tbody tr th:only-of-type {\n",
       "        vertical-align: middle;\n",
       "    }\n",
       "\n",
       "    .dataframe tbody tr th {\n",
       "        vertical-align: top;\n",
       "    }\n",
       "\n",
       "    .dataframe thead th {\n",
       "        text-align: right;\n",
       "    }\n",
       "</style>\n",
       "<table border=\"1\" class=\"dataframe\">\n",
       "  <thead>\n",
       "    <tr style=\"text-align: right;\">\n",
       "      <th></th>\n",
       "      <th>fcgr</th>\n",
       "      <th>kaos</th>\n",
       "      <th>kmer length</th>\n",
       "    </tr>\n",
       "  </thead>\n",
       "  <tbody>\n",
       "    <tr>\n",
       "      <th>0</th>\n",
       "      <td>0.634</td>\n",
       "      <td>97.314</td>\n",
       "      <td>1</td>\n",
       "    </tr>\n",
       "    <tr>\n",
       "      <th>1</th>\n",
       "      <td>0.735</td>\n",
       "      <td>95.896</td>\n",
       "      <td>2</td>\n",
       "    </tr>\n",
       "    <tr>\n",
       "      <th>2</th>\n",
       "      <td>0.771</td>\n",
       "      <td>95.742</td>\n",
       "      <td>3</td>\n",
       "    </tr>\n",
       "    <tr>\n",
       "      <th>3</th>\n",
       "      <td>0.785</td>\n",
       "      <td>96.196</td>\n",
       "      <td>4</td>\n",
       "    </tr>\n",
       "    <tr>\n",
       "      <th>4</th>\n",
       "      <td>0.805</td>\n",
       "      <td>96.242</td>\n",
       "      <td>5</td>\n",
       "    </tr>\n",
       "    <tr>\n",
       "      <th>5</th>\n",
       "      <td>0.864</td>\n",
       "      <td>96.229</td>\n",
       "      <td>6</td>\n",
       "    </tr>\n",
       "    <tr>\n",
       "      <th>6</th>\n",
       "      <td>0.885</td>\n",
       "      <td>96.216</td>\n",
       "      <td>7</td>\n",
       "    </tr>\n",
       "    <tr>\n",
       "      <th>7</th>\n",
       "      <td>1.235</td>\n",
       "      <td>96.004</td>\n",
       "      <td>8</td>\n",
       "    </tr>\n",
       "    <tr>\n",
       "      <th>8</th>\n",
       "      <td>1.956</td>\n",
       "      <td>96.126</td>\n",
       "      <td>9</td>\n",
       "    </tr>\n",
       "    <tr>\n",
       "      <th>9</th>\n",
       "      <td>2.943</td>\n",
       "      <td>96.410</td>\n",
       "      <td>10</td>\n",
       "    </tr>\n",
       "  </tbody>\n",
       "</table>\n",
       "</div>"
      ],
      "text/plain": [
       "    fcgr    kaos  kmer length\n",
       "0  0.634  97.314            1\n",
       "1  0.735  95.896            2\n",
       "2  0.771  95.742            3\n",
       "3  0.785  96.196            4\n",
       "4  0.805  96.242            5\n",
       "5  0.864  96.229            6\n",
       "6  0.885  96.216            7\n",
       "7  1.235  96.004            8\n",
       "8  1.956  96.126            9\n",
       "9  2.943  96.410           10"
      ]
     },
     "execution_count": 22,
     "metadata": {},
     "output_type": "execute_result"
    }
   ],
   "source": [
    "rounded_df = df.applymap(lambda x: round(x, 3))\n",
    "rounded_df"
   ]
  },
  {
   "cell_type": "code",
   "execution_count": 23,
   "metadata": {},
   "outputs": [],
   "source": [
    "def custom_figure_axis(ax, fontsize=10, show_ticks = True):\n",
    "\n",
    "    \"\"\"\n",
    "    Customize the appearance of matplotlib axis for a figure.\n",
    "\n",
    "    Parameters:\n",
    "        ax (matplotlib.axes._subplots.AxesSubplot): The axis to be customized.\n",
    "        fontsize (int, optional): Font size for axis labels and ticks. Default is 10.\n",
    "        show_ticks (bool, optional): Whether to display ticks and labels. Default is True.\n",
    "\n",
    "    Returns:\n",
    "        matplotlib.axes._subplots.AxesSubplot: The customized axis.\n",
    "    \"\"\"\n",
    "\n",
    "    ax.spines['bottom'].set_color('black')\n",
    "    ax.spines['left'].set_color('black')\n",
    "    ax.spines['top'].set_color('white')\n",
    "    ax.spines['right'].set_color('white')\n",
    "    ax.grid(False)\n",
    "    ax.spines['top'].set_visible(False)\n",
    "    ax.spines['right'].set_visible(False)\n",
    "    ax.spines['bottom'].set_linewidth(0.2)\n",
    "    ax.spines['left'].set_linewidth(0.2)\n",
    "    ax.tick_params(axis='x', labelsize=fontsize, rotation=0)\n",
    "    ax.tick_params(axis='y', labelsize=fontsize)\n",
    "    ax.tick_params(axis='both', which='both', width=0.5)\n",
    "    ax.xaxis.label.set_fontsize(fontsize)\n",
    "    ax.yaxis.label.set_fontsize(fontsize)\n",
    "    \n",
    "    if show_ticks==False:\n",
    "        ax.set_xlabel(None)\n",
    "        ax.set_ylabel(None)\n",
    "        ax.set_xticklabels([])\n",
    "        ax.set_yticklabels([])\n",
    "        \n",
    "    return ax"
   ]
  },
  {
   "cell_type": "markdown",
   "metadata": {},
   "source": [
    "##### graph for time taken vs kmer length"
   ]
  },
  {
   "cell_type": "code",
   "execution_count": 26,
   "metadata": {},
   "outputs": [
    {
     "data": {
      "image/png": "[encoded data removed]",
      "text/plain": [
       "<Figure size 1260x1260 with 1 Axes>"
      ]
     },
     "metadata": {},
     "output_type": "display_data"
    }
   ],
   "source": [
    "fig, ax = plt.subplots(1, 1, dpi = 600, figsize = (2.1, 2.1))\n",
    "\n",
    "ax.plot(rounded_df[\"kmer length\"], rounded_df[\"kaos\"], lw = 0.5, color = \"red\", label = \"kaos\")\n",
    "ax.plot(rounded_df[\"kmer length\"], rounded_df[\"fcgr\"], lw = 0.5, color = \"green\", label = \"fcgr\")\n",
    "\n",
    "ax.set_xlabel(\"kmer length\")\n",
    "ax.set_ylabel(\"seconds (log)\")\n",
    "ax = custom_figure_axis(ax, fontsize=4, show_ticks = True)\n",
    "ax.legend(frameon=False, fontsize = 3)\n",
    "ax.set_yscale('log')\n",
    "ax.set_xticks([0, 1, 2, 3, 4, 5, 6, 7, 8 , 9, 10]);\n",
    "plt.tight_layout()\n",
    "plt.savefig(\"time.pdf\", dpi = 600)"
   ]
  }
 ],
 "metadata": {
  "kernelspec": {
   "display_name": "normal",
   "language": "python",
   "name": "python3"
  },
  "language_info": {
   "codemirror_mode": {
    "name": "ipython",
    "version": 3
   },
   "file_extension": ".py",
   "mimetype": "text/x-python",
   "name": "python",
   "nbconvert_exporter": "python",
   "pygments_lexer": "ipython3",
   "version": "3.10.13"
  }
 },
 "nbformat": 4,
 "nbformat_minor": 2
}
